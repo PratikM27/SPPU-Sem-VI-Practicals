{
 "cells": [
  {
   "cell_type": "code",
   "execution_count": 1,
   "id": "4d6ceec3-956d-44df-9263-ecf1880d1317",
   "metadata": {},
   "outputs": [],
   "source": [
    "import pandas as pd\n",
    "from sklearn.feature_extraction.text import CountVectorizer\n",
    "from sklearn.metrics.pairwise import cosine_similarity"
   ]
  },
  {
   "cell_type": "code",
   "execution_count": 2,
   "id": "1675cf1b-c08d-4c76-bf9a-19d6f64671f2",
   "metadata": {},
   "outputs": [],
   "source": [
    "# Load the dataset\n",
    "movies_df = pd.read_csv(\"movie_dataset.csv\")"
   ]
  },
  {
   "cell_type": "code",
   "execution_count": 3,
   "id": "28bca193-40aa-4a4c-9096-c91e82aa3ace",
   "metadata": {},
   "outputs": [
    {
     "name": "stdout",
     "output_type": "stream",
     "text": [
      "Index(['index', 'budget', 'genres', 'homepage', 'id', 'keywords',\n",
      "       'original_language', 'original_title', 'overview', 'popularity',\n",
      "       'production_companies', 'production_countries', 'release_date',\n",
      "       'revenue', 'runtime', 'spoken_languages', 'status', 'tagline', 'title',\n",
      "       'vote_average', 'vote_count', 'cast', 'crew', 'director'],\n",
      "      dtype='object')\n"
     ]
    }
   ],
   "source": [
    "# Inspect the dataset\n",
    "print(movies_df.columns)"
   ]
  },
  {
   "cell_type": "code",
   "execution_count": 4,
   "id": "bce8d9e3-cc0e-42f8-8b10-c04520e37c97",
   "metadata": {},
   "outputs": [],
   "source": [
    "# Select relevant features for the recommendation system\n",
    "features = ['keywords', 'cast', 'genres', 'director']"
   ]
  },
  {
   "cell_type": "code",
   "execution_count": 5,
   "id": "74781c95-983f-4efc-a688-ec6fc2f995a4",
   "metadata": {},
   "outputs": [],
   "source": [
    "# Fill missing values with empty strings\n",
    "for feature in features:\n",
    "    movies_df[feature] = movies_df[feature].fillna('')"
   ]
  },
  {
   "cell_type": "code",
   "execution_count": 6,
   "id": "238ad31b-fc82-4420-a50b-1d4876db4126",
   "metadata": {},
   "outputs": [],
   "source": [
    "# Combine selected features into a single string\n",
    "def combine_features(row):\n",
    "    return f\"{row['keywords']} {row['cast']} {row['genres']} {row['director']}\"\n",
    "\n",
    "movies_df['combined_features'] = movies_df.apply(combine_features, axis=1)"
   ]
  },
  {
   "cell_type": "code",
   "execution_count": 7,
   "id": "056b5d9a-16e4-495b-86ab-1cc95bbf53be",
   "metadata": {},
   "outputs": [],
   "source": [
    "# Convert text data into feature vectors using CountVectorizer\n",
    "cv = CountVectorizer()\n",
    "count_matrix = cv.fit_transform(movies_df['combined_features'])"
   ]
  },
  {
   "cell_type": "code",
   "execution_count": 8,
   "id": "a5f7a272-1fd9-4ed9-abb0-7e7fe31fd6ab",
   "metadata": {},
   "outputs": [],
   "source": [
    "# Compute the cosine similarity based on the count_matrix\n",
    "cosine_sim = cosine_similarity(count_matrix)"
   ]
  },
  {
   "cell_type": "code",
   "execution_count": 15,
   "id": "65a69432-62d5-4bdb-8710-996b712ffa59",
   "metadata": {},
   "outputs": [],
   "source": [
    "# Function to get movie recommendations\n",
    "def get_recommendations(title, cosine_sim=cosine_sim):\n",
    "    # Get the index of the movie that matches the title\n",
    "    try:\n",
    "        movie_index = movies_df[movies_df['title'] == title].index[0]\n",
    "    except IndexError:\n",
    "        return [\"Movie not found in the dataset.\"]\n",
    "    \n",
    "    # Get a list of similarity scores for the movie\n",
    "    similar_movies = list(enumerate(cosine_sim[movie_index]))\n",
    "    \n",
    "    # Sort the movies based on similarity scores\n",
    "    sorted_similar_movies = sorted(similar_movies, key=lambda x: x[1], reverse=True)[1:]\n",
    "    \n",
    "    # Get the titles of the top 10 similar movies\n",
    "    recommended_movies = []\n",
    "    for i in range(10):\n",
    "        recommended_movies.append(movies_df.iloc[sorted_similar_movies[i][0]]['title'])\n",
    "    return recommended_movies"
   ]
  },
  {
   "cell_type": "code",
   "execution_count": 16,
   "id": "9c10e0aa-5e87-4b97-83a5-80c9eb897ec2",
   "metadata": {},
   "outputs": [
    {
     "name": "stdout",
     "output_type": "stream",
     "text": [
      "Movies similar to 'Avatar':\n",
      "Guardians of the Galaxy\n",
      "Aliens\n",
      "Star Wars: Clone Wars: Volume 1\n",
      "Star Trek Into Darkness\n",
      "Star Trek Beyond\n",
      "Alien\n",
      "Lockout\n",
      "Jason X\n",
      "The Helix... Loaded\n",
      "Moonraker\n"
     ]
    }
   ],
   "source": [
    "# Example usage\n",
    "movie_title = \"Avatar\"  # Replace with the movie title you want recommendations for\n",
    "recommendations = get_recommendations(movie_title)\n",
    "print(f\"Movies similar to '{movie_title}':\")\n",
    "for rec in recommendations:\n",
    "    print(rec)"
   ]
  },
  {
   "cell_type": "code",
   "execution_count": 19,
   "id": "e6264816-23ce-4d44-8bf7-11ac8d8d84ee",
   "metadata": {},
   "outputs": [
    {
     "name": "stdout",
     "output_type": "stream",
     "text": [
      "Movies similar to 'Thor':\n",
      "Thor: The Dark World\n",
      "The Avengers\n",
      "Captain America: The Winter Soldier\n",
      "Avengers: Age of Ultron\n",
      "Captain America: Civil War\n",
      "Pirates of the Caribbean: Dead Man's Chest\n",
      "Cinderella\n",
      "Jack Ryan: Shadow Recruit\n",
      "The Amazing Spider-Man 2\n",
      "Captain America: The First Avenger\n"
     ]
    }
   ],
   "source": [
    "# Example usage\n",
    "movie_title = \"Thor\"  # Replace with the movie title you want recommendations for\n",
    "recommendations = get_recommendations(movie_title)\n",
    "print(f\"Movies similar to '{movie_title}':\")\n",
    "for rec in recommendations:\n",
    "    print(rec)"
   ]
  },
  {
   "cell_type": "code",
   "execution_count": null,
   "id": "b32254fc-6caf-4d7b-b584-0251acdb5b05",
   "metadata": {},
   "outputs": [],
   "source": []
  }
 ],
 "metadata": {
  "kernelspec": {
   "display_name": "Python 3 (ipykernel)",
   "language": "python",
   "name": "python3"
  },
  "language_info": {
   "codemirror_mode": {
    "name": "ipython",
    "version": 3
   },
   "file_extension": ".py",
   "mimetype": "text/x-python",
   "name": "python",
   "nbconvert_exporter": "python",
   "pygments_lexer": "ipython3",
   "version": "3.13.3"
  }
 },
 "nbformat": 4,
 "nbformat_minor": 5
}
